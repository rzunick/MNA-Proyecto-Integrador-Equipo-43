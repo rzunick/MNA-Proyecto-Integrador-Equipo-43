{
  "cells": [
    {
      "cell_type": "markdown",
      "metadata": {
        "id": "view-in-github",
        "colab_type": "text"
      },
      "source": [
        "<a href=\"https://colab.research.google.com/github/rzunick/MNA-Proyecto-Integrador-Equipo-43/blob/main/Dominant_Color_Detection_Model_Profiling.ipynb\" target=\"_parent\"><img src=\"https://colab.research.google.com/assets/colab-badge.svg\" alt=\"Open In Colab\"/></a>"
      ]
    },
    {
      "cell_type": "markdown",
      "metadata": {
        "id": "gUbbMAGkyau6"
      },
      "source": [
        "#1 - Introduction"
      ]
    },
    {
      "cell_type": "markdown",
      "metadata": {
        "id": "79nN0UIqykKN"
      },
      "source": [
        "Through this notebook, model profiling using PyTorch is performed on the trained models for a Dominant Color Detection CNN Model."
      ]
    },
    {
      "cell_type": "markdown",
      "metadata": {
        "id": "LmiL2ePJzsET"
      },
      "source": [
        "#2 - Importing Dependencies, Dataset, and Models"
      ]
    },
    {
      "cell_type": "code",
      "source": [
        "import torch\n",
        "import torch.nn as nn\n",
        "import os\n",
        "import  numpy as np\n",
        "import pandas as pd\n",
        "from torch.utils.data import  Dataset, DataLoader\n",
        "from  PIL import  Image\n",
        "from  torchvision.transforms import  ToTensor, Compose, Resize, CenterCrop, Normalize\n",
        "import torchvision.transforms as transforms\n",
        "import torchvision.transforms.functional as TF\n",
        "import  glob\n",
        "import requests\n",
        "from sklearn.model_selection import train_test_split\n",
        "\n",
        "from zipfile import ZipFile\n",
        "import shutil\n",
        "import matplotlib.pyplot as plt\n",
        "\n",
        "import torch.optim as optim\n",
        "import torch.nn.functional as F\n",
        "\n",
        "!pip install opencv-python-headless\n",
        "from torchsummary import summary\n",
        "\n",
        "from PIL import Image\n",
        "import cv2\n",
        "from collections import Counter\n",
        "\n",
        "from  tqdm import tqdm\n",
        "from sklearn.metrics import accuracy_score\n",
        "\n",
        "from  collections import  defaultdict\n",
        "import json\n",
        "\n",
        "import time\n",
        "import random"
      ],
      "metadata": {
        "id": "3tiJHSPBtnPX",
        "colab": {
          "base_uri": "https://localhost:8080/"
        },
        "outputId": "f15993a9-9ba9-4ba2-907e-49818a303191"
      },
      "execution_count": 1,
      "outputs": [
        {
          "output_type": "stream",
          "name": "stdout",
          "text": [
            "Requirement already satisfied: opencv-python-headless in /usr/local/lib/python3.10/dist-packages (4.10.0.82)\n",
            "Requirement already satisfied: numpy>=1.21.2 in /usr/local/lib/python3.10/dist-packages (from opencv-python-headless) (1.25.2)\n"
          ]
        }
      ]
    },
    {
      "cell_type": "code",
      "execution_count": 2,
      "metadata": {
        "colab": {
          "base_uri": "https://localhost:8080/"
        },
        "id": "dp4tyYzFimEn",
        "outputId": "685489c9-280f-4c84-8dec-709f631599d3"
      },
      "outputs": [
        {
          "output_type": "stream",
          "name": "stdout",
          "text": [
            "File downloaded successfully\n"
          ]
        }
      ],
      "source": [
        "# URL of the .zip file in the GitHub repository\n",
        "github_zip_url = \"https://github.com/rzunick/MNA-Proyecto-Integrador-Equipo-43/raw/main/cifar_10_color_v4_balanced.zip?download=\"\n",
        "\n",
        "# Path to save the downloaded .zip file\n",
        "zip_file_path = '/content/cifar_10_color_v4.zip'\n",
        "\n",
        "# Download the .zip file from GitHub\n",
        "response = requests.get(github_zip_url)\n",
        "with open(zip_file_path, 'wb') as f:\n",
        "    f.write(response.content)\n",
        "\n",
        "# Verify the download\n",
        "if response.status_code == 200:\n",
        "    print(\"File downloaded successfully\")\n",
        "else:\n",
        "    print(\"Failed to download file\")"
      ]
    },
    {
      "cell_type": "code",
      "execution_count": 3,
      "metadata": {
        "id": "NHjz5KnLPvub"
      },
      "outputs": [],
      "source": [
        "#Specify zip file path\n",
        "zip_file_path = '/content/cifar_10_color_v4.zip'"
      ]
    },
    {
      "cell_type": "code",
      "execution_count": 4,
      "metadata": {
        "colab": {
          "base_uri": "https://localhost:8080/"
        },
        "id": "b5Ov3vFdSSSa",
        "outputId": "1405d3f0-a311-4b9f-8e96-f0bdf5b66e6d"
      },
      "outputs": [
        {
          "output_type": "stream",
          "name": "stdout",
          "text": [
            "/content/cifar_10_color.zip: cannot open `/content/cifar_10_color.zip' (No such file or directory)\n"
          ]
        }
      ],
      "source": [
        "# Confirmar tipo de archivo es tipo .zip\n",
        "!file /content/cifar_10_color.zip"
      ]
    },
    {
      "cell_type": "code",
      "execution_count": 5,
      "metadata": {
        "id": "jJWB0MJ0O-sn"
      },
      "outputs": [],
      "source": [
        "from zipfile import ZipFile\n",
        "\n",
        "# Specify the directory where you want to extract the files\n",
        "extract_to_directory = '/content'\n",
        "\n",
        "# Create a ZipFile object\n",
        "with ZipFile(zip_file_path, 'r') as zip_ref:\n",
        "    # Extract all the contents of the zip file to the specified directory\n",
        "    zip_ref.extractall(extract_to_directory)"
      ]
    },
    {
      "cell_type": "code",
      "execution_count": 6,
      "metadata": {
        "id": "NkubXSkhqcCX"
      },
      "outputs": [],
      "source": [
        "# Dataset Path\n",
        "path = '/content/cifar_10_color_v4'"
      ]
    },
    {
      "cell_type": "code",
      "source": [
        "# Configuration 4: 8 labels\n",
        "labels = [\"Red\",\"Yellow\",\"Blue\",\"Orange\",\"Green\",\"Brown\",\"Black\",\"White\"]\n",
        "\n",
        "def decode_label(index):\n",
        "    return  labels[index]\n",
        "\n",
        "def encode_label_from_path(path):\n",
        "    for index,value in enumerate(labels):\n",
        "        if value in path:\n",
        "            return  index\n",
        "\n",
        "# Get image list\n",
        "image_list = glob.glob(os.path.join(path, '**', '*.*'), recursive=True)\n",
        "class_list = [encode_label_from_path(item) for item in image_list]\n",
        "\n",
        "# Count the number of images per class\n",
        "from collections import Counter\n",
        "label_counts = Counter(class_list)\n",
        "print(\"Label counts:\", label_counts)\n",
        "\n",
        "# Convert the counter to a pandas DataFrame\n",
        "label_df = pd.DataFrame.from_dict(label_counts, orient='index', columns=['count'])\n",
        "label_df.index = [labels[idx] for idx in label_df.index]\n",
        "\n",
        "# Plotting the bar chart\n",
        "plt.figure(figsize=(12, 6))\n",
        "label_df['count'].plot(kind='bar', color='skyblue')\n",
        "plt.title('Number of Images per Class')\n",
        "plt.xlabel('Class Labels')\n",
        "plt.ylabel('Number of Images')\n",
        "plt.xticks(rotation=45)\n",
        "plt.grid(axis='y')\n",
        "\n",
        "# Display the plot\n",
        "plt.show()"
      ],
      "metadata": {
        "colab": {
          "base_uri": "https://localhost:8080/",
          "height": 631
        },
        "id": "w5dbISS0Swx_",
        "outputId": "670dc73f-6a91-4160-8755-25cd4990f95b"
      },
      "execution_count": 7,
      "outputs": [
        {
          "output_type": "stream",
          "name": "stdout",
          "text": [
            "Label counts: Counter({2: 1600, 6: 1600, 0: 1600, 3: 1600, 4: 1600, 1: 1600, 5: 1600, 7: 1600})\n"
          ]
        },
        {
          "output_type": "display_data",
          "data": {
            "text/plain": [
              "<Figure size 1200x600 with 1 Axes>"
            ],
            "image/png": "[encoded data removed]"
          },
          "metadata": {}
        }
      ]
    },
    {
      "cell_type": "markdown",
      "source": [
        "## Dataset RGB Values Normalization"
      ],
      "metadata": {
        "id": "tgQb3EvA9lhg"
      }
    },
    {
      "cell_type": "markdown",
      "source": [
        "70 Training / 15 Validation / 15 Test"
      ],
      "metadata": {
        "id": "KfupL5g4AZyV"
      }
    },
    {
      "cell_type": "code",
      "source": [
        "# Train and Test subsets\n",
        "x_train, x_temp, y_train, y_temp = train_test_split(image_list, class_list, train_size= 0.7 , stratify=class_list , shuffle=True, random_state=42)\n",
        "\n",
        "# Dividing Training dataset into Train and Validation subsets\n",
        "# Since x_temp and y_temp are 30% of the original, splitting them in half gives each 15% of the original dataset.\n",
        "x_val, x_test, y_val, y_test = train_test_split(x_temp, y_temp, test_size=0.5, stratify=y_temp, shuffle=True, random_state=42)"
      ],
      "metadata": {
        "id": "WMtnqkZRpggN"
      },
      "execution_count": 8,
      "outputs": []
    },
    {
      "cell_type": "code",
      "source": [
        "# Pre-defined normalization parameters as numpy arrays\n",
        "mean_rgb = np.array([124.75003924, 123.10938383, 114.89393648])\n",
        "std_dev_rgb = np.array([63.66785235, 62.47050596, 67.81292227])"
      ],
      "metadata": {
        "id": "5xCat0UtccIU"
      },
      "execution_count": 24,
      "outputs": []
    },
    {
      "cell_type": "code",
      "source": [
        "print(\"Mean (Average) RGB Values: \", mean_rgb)\n",
        "print(\"Standard Deviation RGB Values: \", std_dev_rgb)"
      ],
      "metadata": {
        "colab": {
          "base_uri": "https://localhost:8080/"
        },
        "id": "VY3K1FCWYWsq",
        "outputId": "4361f4dc-b9c7-4aa4-93c2-85e926e41664"
      },
      "execution_count": 28,
      "outputs": [
        {
          "output_type": "stream",
          "name": "stdout",
          "text": [
            "Mean (Average) RGB Values:  [124.75003924 123.10938383 114.89393648]\n",
            "Standard Deviation RGB Values:  [63.66785235 62.47050596 67.81292227]\n"
          ]
        }
      ]
    },
    {
      "cell_type": "markdown",
      "source": [
        "## Loading the Dataset"
      ],
      "metadata": {
        "id": "yM5uUQQI9xzx"
      }
    },
    {
      "cell_type": "code",
      "source": [
        "class ColorDataset_RGB(Dataset):\n",
        "    def __init__(self, image_list, class_list, mean_rgb, std_dev_rgb):\n",
        "        self.image_list = image_list\n",
        "        self.class_list = class_list\n",
        "        self.mean_rgb = mean_rgb\n",
        "        self.std_dev_rgb = std_dev_rgb\n",
        "        self.data_len = len(self.image_list)\n",
        "\n",
        "    def __len__(self):\n",
        "        return self.data_len\n",
        "\n",
        "    def __getitem__(self, index):\n",
        "        image_path = self.image_list[index]\n",
        "        image = Image.open(image_path).convert('RGB')\n",
        "        image = ToTensor()(image)  # Convert image to tensor\n",
        "        image = Normalize(mean=self.mean_rgb/255.0, std=self.std_dev_rgb/255.0)(image)\n",
        "        return image, self.class_list[index]"
      ],
      "metadata": {
        "id": "0CzN8oCdIuYj"
      },
      "execution_count": 29,
      "outputs": []
    },
    {
      "cell_type": "code",
      "source": [
        "train_dataset_rgb = ColorDataset_RGB(x_train, y_train, mean_rgb, std_dev_rgb)\n",
        "train_data_loader = DataLoader(train_dataset_rgb, batch_size=32)\n",
        "\n",
        "val_dataset_rgb = ColorDataset_RGB(x_val, y_val, mean_rgb, std_dev_rgb)\n",
        "val_data_loader = DataLoader(val_dataset_rgb, batch_size=32)\n",
        "\n",
        "test_dataset_rgb = ColorDataset_RGB(x_test, y_test, mean_rgb, std_dev_rgb)\n",
        "test_data_loader = DataLoader(test_dataset_rgb, batch_size=32)"
      ],
      "metadata": {
        "id": "hJ-ScMqcqZkK"
      },
      "execution_count": 30,
      "outputs": []
    },
    {
      "cell_type": "code",
      "source": [
        "device = 'cuda' if torch.cuda.is_available() else 'cpu'\n",
        "print('Using {} device'.format(device))"
      ],
      "metadata": {
        "colab": {
          "base_uri": "https://localhost:8080/"
        },
        "id": "B-b750qeplN_",
        "outputId": "1bfc2b03-251b-4ae8-af01-5318e8f1ce29"
      },
      "execution_count": 31,
      "outputs": [
        {
          "output_type": "stream",
          "name": "stdout",
          "text": [
            "Using cuda device\n"
          ]
        }
      ]
    },
    {
      "cell_type": "markdown",
      "source": [
        "## Loading the Models"
      ],
      "metadata": {
        "id": "tfVAlIIKS9lf"
      }
    },
    {
      "cell_type": "markdown",
      "source": [
        "Model Weights"
      ],
      "metadata": {
        "id": "KqVawPYxVgV4"
      }
    },
    {
      "cell_type": "code",
      "source": [
        "# URL of the .zip file in the GitHub repository\n",
        "github_zip_url = \"https://github.com/rzunick/MNA-Proyecto-Integrador-Equipo-43/raw/main/cifar_color_detection_models_v2.zip?download=\"\n",
        "\n",
        "# Path to save the downloaded .zip file\n",
        "zip_file_path = '/content/cifar_color_detection_models_v2.zip'\n",
        "\n",
        "# Download the .zip file from GitHub\n",
        "response = requests.get(github_zip_url)\n",
        "with open(zip_file_path, 'wb') as f:\n",
        "    f.write(response.content)\n",
        "\n",
        "# Verify the download\n",
        "if response.status_code == 200:\n",
        "    print(\"File downloaded successfully\")\n",
        "else:\n",
        "    print(\"Failed to download file\")\n",
        "\n",
        "# Confirmar tipo de archivo es tipo .zip\n",
        "!file /content/cifar_color_detection_models_v2.zip\n",
        "\n",
        "# Specify the directory where you want to extract the files\n",
        "extract_to_directory = '/content'\n",
        "\n",
        "# Create a ZipFile object\n",
        "with ZipFile(zip_file_path, 'r') as zip_ref:\n",
        "    # Extract all the contents of the zip file to the specified directory\n",
        "    zip_ref.extractall(extract_to_directory)\n",
        "\n",
        "# Model Weights Paths\n",
        "model1_weights_path = \"/content/cifar_color_detection_models_v2/model_1.pt\"\n",
        "model2_weights_path = \"/content/cifar_color_detection_models_v2/model_2.pt\"\n",
        "model3_weights_path = \"/content/cifar_color_detection_models_v2/model_3.pt\"\n",
        "model4_weights_path = \"/content/cifar_color_detection_models_v2/model_4.pt\""
      ],
      "metadata": {
        "colab": {
          "base_uri": "https://localhost:8080/"
        },
        "id": "JgIo3QayUKz9",
        "outputId": "37dc1582-321e-4146-9a6d-c049cd5b551d"
      },
      "execution_count": 14,
      "outputs": [
        {
          "output_type": "stream",
          "name": "stdout",
          "text": [
            "File downloaded successfully\n",
            "/content/cifar_color_detection_models_v2.zip: Zip archive data, at least v2.0 to extract, compression method=deflate\n"
          ]
        }
      ]
    },
    {
      "cell_type": "markdown",
      "source": [
        "Model Instances"
      ],
      "metadata": {
        "id": "SAlf_eXfViho"
      }
    },
    {
      "cell_type": "code",
      "source": [
        "#Define Model\n",
        "class ColorModel1(nn.Module):\n",
        "    def __init__(self):\n",
        "        super(ColorModel1, self).__init__()\n",
        "\n",
        "        self.top_conv1 = nn.Sequential(\n",
        "            nn.Conv2d(3,48, kernel_size=(3,3) , stride=(1,1)), # smaller kernel size and stride\n",
        "            nn.ReLU(),\n",
        "            nn.BatchNorm2d(48),\n",
        "            nn.MaxPool2d(kernel_size=2 , stride=2) # smaller pooling size\n",
        "        )\n",
        "\n",
        "        # first top convolution layer    after split\n",
        "        self.top_top_conv2 = nn.Sequential(\n",
        "\n",
        "            # 1-1 conv layer\n",
        "            nn.Conv2d(24, 64, kernel_size=(3,3), stride=(1,1),padding=1),\n",
        "            nn.ReLU(),\n",
        "            nn.BatchNorm2d(64),\n",
        "            nn.MaxPool2d(kernel_size=3, stride=2)\n",
        "        )\n",
        "\n",
        "        self.top_bot_conv2 = nn.Sequential(\n",
        "\n",
        "            # 1-1 conv layer\n",
        "            nn.Conv2d(24, 64, kernel_size=(3,3), stride=(1,1),padding=1),\n",
        "            nn.ReLU(),\n",
        "            nn.BatchNorm2d(64),\n",
        "            nn.MaxPool2d(kernel_size=3, stride=2)\n",
        "        )\n",
        "\n",
        "\n",
        "        #  need a concat\n",
        "\n",
        "        # after concat\n",
        "        self.top_conv3 = nn.Sequential(\n",
        "            # 1-1 conv layer\n",
        "            nn.Conv2d(128, 192, kernel_size=(3,3), stride=(1,1),padding=1),\n",
        "            nn.ReLU()\n",
        "        )\n",
        "\n",
        "        # fourth top convolution layer\n",
        "        # split feature map by half\n",
        "        self.top_top_conv4 = nn.Sequential(\n",
        "            # 1-1 conv layer\n",
        "            nn.Conv2d(96, 96, kernel_size=(3,3), stride=(1,1),padding=1),\n",
        "            nn.ReLU()\n",
        "        )\n",
        "\n",
        "        self.top_bot_conv4 = nn.Sequential(\n",
        "            # 1-1 conv layer\n",
        "            nn.Conv2d(96, 96, kernel_size=(3,3), stride=(1,1),padding=1),\n",
        "            nn.ReLU()\n",
        "        )\n",
        "\n",
        "\n",
        "        # fifth top convolution layer\n",
        "        self.top_top_conv5 = nn.Sequential(\n",
        "            # 1-1 conv layer\n",
        "            nn.Conv2d(96, 64, kernel_size=(3,3), stride=(2,2),padding=1),\n",
        "            nn.ReLU(),\n",
        "            nn.MaxPool2d(kernel_size=2, stride=2)\n",
        "        )\n",
        "        self.top_bot_conv5 = nn.Sequential(\n",
        "            # 1-1 conv layer\n",
        "            nn.Conv2d(96, 64, kernel_size=(3,3), stride=(2,2),padding=1),\n",
        "            nn.ReLU(),\n",
        "            nn.MaxPool2d(kernel_size=2, stride=2)\n",
        "        )\n",
        "\n",
        "#        # ===============================  bottom ================================\n",
        "\n",
        "\n",
        "#         # first bottom convolution layer\n",
        "        self.bottom_conv1 = nn.Sequential(\n",
        "\n",
        "            # 1-1 conv layer\n",
        "            nn.Conv2d(3, 48, kernel_size=(3,3), stride=(1,1), padding=1),\n",
        "            nn.ReLU(),\n",
        "            nn.BatchNorm2d(48),\n",
        "            nn.MaxPool2d(kernel_size=2, stride=2)\n",
        "        )\n",
        "\n",
        "\n",
        "        # first top convolution layer    after split\n",
        "        self.bottom_top_conv2 = nn.Sequential(\n",
        "\n",
        "            # 1-1 conv layer\n",
        "            nn.Conv2d(24, 64, kernel_size=(3,3), stride=(1,1),padding=1),\n",
        "            nn.ReLU(),\n",
        "            nn.BatchNorm2d(64),\n",
        "            nn.MaxPool2d(kernel_size=3, stride=2)\n",
        "        )\n",
        "\n",
        "        self.bottom_bot_conv2 = nn.Sequential(\n",
        "\n",
        "            # 1-1 conv layer\n",
        "            nn.Conv2d(24, 64, kernel_size=(3,3), stride=(1,1),padding=1),\n",
        "            nn.ReLU(),\n",
        "            nn.BatchNorm2d(64),\n",
        "            nn.MaxPool2d(kernel_size=3, stride=2)\n",
        "        )\n",
        "\n",
        "\n",
        "        #  need a concat\n",
        "\n",
        "        # after concat\n",
        "        self.bottom_conv3 = nn.Sequential(\n",
        "            # 1-1 conv layer\n",
        "            nn.Conv2d(128, 192, kernel_size=(3,3), stride=(1,1),padding=1),\n",
        "            nn.ReLU()\n",
        "        )\n",
        "\n",
        "        # fourth top convolution layer\n",
        "        # split feature map by half\n",
        "        self.bottom_top_conv4 = nn.Sequential(\n",
        "            # 1-1 conv layer\n",
        "            nn.Conv2d(96, 96, kernel_size=(3,3), stride=(1,1),padding=1),\n",
        "            nn.ReLU()\n",
        "        )\n",
        "\n",
        "        self.bottom_bot_conv4 = nn.Sequential(\n",
        "            # 1-1 conv layer\n",
        "            nn.Conv2d(96, 96, kernel_size=(3,3), stride=(1,1),padding=1),\n",
        "            nn.ReLU()\n",
        "        )\n",
        "\n",
        "\n",
        "        # fifth top convolution layer\n",
        "        self.bottom_top_conv5 = nn.Sequential(\n",
        "            # 1-1 conv layer\n",
        "            nn.Conv2d(96, 64, kernel_size=(3,3), stride=(2,2),padding=1),\n",
        "            nn.ReLU(),\n",
        "            nn.MaxPool2d(kernel_size=2, stride=2)\n",
        "        )\n",
        "        self.bottom_bot_conv5 = nn.Sequential(\n",
        "            # 1-1 conv layer\n",
        "            nn.Conv2d(96, 64, kernel_size=(3,3), stride=(2,2),padding=1),\n",
        "            nn.ReLU(),\n",
        "            nn.MaxPool2d(kernel_size=2, stride=2)\n",
        "        )\n",
        "\n",
        "        # Fully-connected layer\n",
        "        self.classifier = nn.Sequential(\n",
        "            nn.Linear(1024, 4096), # Adjusted for output size\n",
        "            nn.ReLU(),\n",
        "            nn.Dropout(0.7),\n",
        "            nn.Linear(4096, 4096),\n",
        "            nn.ReLU(),\n",
        "            nn.Dropout(0.6),\n",
        "            nn.Linear(4096, 8)\n",
        "        )\n",
        "\n",
        "    def forward(self,x):\n",
        "\n",
        "        # Top Path\n",
        "\n",
        "        #print(x.shape)\n",
        "        x_top = self.top_conv1(x)\n",
        "        #print(x_top.shape)\n",
        "\n",
        "        x_top_conv = torch.split(x_top, 24, 1)\n",
        "\n",
        "        x_top_top_conv2 = self.top_top_conv2(x_top_conv[0])\n",
        "        x_top_bot_conv2 = self.top_bot_conv2(x_top_conv[1])\n",
        "\n",
        "        x_top_cat1 = torch.cat([x_top_top_conv2,x_top_bot_conv2],1)\n",
        "\n",
        "        x_top_conv3 = self.top_conv3(x_top_cat1)\n",
        "\n",
        "        x_top_conv3 = torch.split(x_top_conv3, 96, 1)\n",
        "\n",
        "        x_top_top_conv4 = self.top_top_conv4(x_top_conv3[0])\n",
        "        x_top_bot_conv4 = self.top_bot_conv4(x_top_conv3[1])\n",
        "\n",
        "        x_top_top_conv5 = self.top_top_conv5(x_top_top_conv4)\n",
        "        x_top_bot_conv5 = self.top_bot_conv5(x_top_bot_conv4)\n",
        "\n",
        "        # Bottom Path\n",
        "        x_bottom = self.bottom_conv1(x)\n",
        "\n",
        "        x_bottom_conv = torch.split(x_bottom, 24, 1)\n",
        "\n",
        "        x_bottom_top_conv2 = self.bottom_top_conv2(x_bottom_conv[0])\n",
        "        x_bottom_bot_conv2 = self.bottom_bot_conv2(x_bottom_conv[1])\n",
        "\n",
        "        x_bottom_cat1 = torch.cat([x_bottom_top_conv2,x_bottom_bot_conv2],1)\n",
        "\n",
        "        x_bottom_conv3 = self.bottom_conv3(x_bottom_cat1)\n",
        "\n",
        "        x_bottom_conv3 = torch.split(x_bottom_conv3, 96, 1)\n",
        "\n",
        "        x_bottom_top_conv4 = self.bottom_top_conv4(x_bottom_conv3[0])\n",
        "        x_bottom_bot_conv4 = self.bottom_bot_conv4(x_bottom_conv3[1])\n",
        "\n",
        "        x_bottom_top_conv5 = self.bottom_top_conv5(x_bottom_top_conv4)\n",
        "        x_bottom_bot_conv5 = self.bottom_bot_conv5(x_bottom_bot_conv4)\n",
        "\n",
        "        # Concatenate\n",
        "        x_cat = torch.cat([x_top_top_conv5,x_top_bot_conv5,x_bottom_top_conv5,x_bottom_bot_conv5],1)\n",
        "\n",
        "        # Print shape before flattening\n",
        "        #print(\"x_cat shape before flattening:\", x_cat.shape)\n",
        "\n",
        "        flatten = x_cat.view(x_cat.size(0), -1)\n",
        "        #print(\"flatten shape:\", flatten.shape)\n",
        "\n",
        "        output = self.classifier(flatten)\n",
        "\n",
        "        #output = F.softmax(output)\n",
        "\n",
        "\n",
        "        return output"
      ],
      "metadata": {
        "id": "C8V9tXM-w9U3"
      },
      "execution_count": 16,
      "outputs": []
    },
    {
      "cell_type": "code",
      "source": [
        "class ColorModel2(nn.Module):\n",
        "    def __init__(self):\n",
        "        super(ColorModel2, self).__init__()\n",
        "\n",
        "        # Convolutional Layer 1: Input channels = 3 (RGB), Output channels = 32\n",
        "        # Kernel size = 3x3, Padding = 1 (to maintain size)\n",
        "        self.conv1 = nn.Conv2d(3, 32, kernel_size=3, padding=1)\n",
        "        self.pool = nn.MaxPool2d(kernel_size=2, stride=2)  # Max pooling over a (2, 2) window\n",
        "\n",
        "        # Convolutional Layer 2: Increasing the depth to 64\n",
        "        self.conv2 = nn.Conv2d(32, 64, kernel_size=3, padding=1)\n",
        "\n",
        "        # Convolutional Layer 3: Increasing the depth to 128\n",
        "        self.conv3 = nn.Conv2d(64, 128, kernel_size=3, padding=1)\n",
        "\n",
        "        # Fully Connected Layers\n",
        "        # Flattening the output from the convolutional layers to feed into the fully connected layer\n",
        "        self.fc1 = nn.Linear(128 * 4 * 4, 512)  # Image size is 32x32 initially and reduced to 4x4 after three poolings\n",
        "        self.fc2 = nn.Linear(512, 256)\n",
        "        self.fc3 = nn.Linear(256, 8)  # Output layer: 8 classes for colors\n",
        "\n",
        "    def forward(self, x):\n",
        "        # Applying convolution + ReLU + pooling in each convolution layer\n",
        "        x = self.pool(F.relu(self.conv1(x)))\n",
        "        x = self.pool(F.relu(self.conv2(x)))\n",
        "        x = self.pool(F.relu(self.conv3(x)))\n",
        "\n",
        "        # Correct flattening based on the output size of the last pooling layer\n",
        "        x = x.view(-1, 128 * 4 * 4)  # ensure this matches the size, here 128 * 4 * 4 is based on the assumption the output is 4x4 at the last conv layer\n",
        "\n",
        "        # Fully connected layers with ReLU activation function\n",
        "        x = F.relu(self.fc1(x))\n",
        "        x = F.relu(self.fc2(x))\n",
        "\n",
        "        # Output layer\n",
        "        x = self.fc3(x)\n",
        "        return x"
      ],
      "metadata": {
        "id": "OWAvgc1nTDRd"
      },
      "execution_count": 17,
      "outputs": []
    },
    {
      "cell_type": "code",
      "source": [
        "class ColorModel3(nn.Module):\n",
        "    def __init__(self):\n",
        "        super(ColorModel3, self).__init__()\n",
        "        # Initial common convolution layer\n",
        "        self.initial_conv = nn.Sequential(\n",
        "            nn.Conv2d(3, 64, kernel_size=3, stride=1, padding=1),\n",
        "            nn.ReLU(),\n",
        "            nn.BatchNorm2d(64),\n",
        "            nn.MaxPool2d(kernel_size=2, stride=2),\n",
        "            nn.Dropout(0.3)\n",
        "        )\n",
        "\n",
        "        # Top path\n",
        "        self.top_path = nn.Sequential(\n",
        "            nn.Conv2d(64, 128, kernel_size=3, padding=1),\n",
        "            nn.ReLU(),\n",
        "            nn.BatchNorm2d(128),\n",
        "            nn.MaxPool2d(kernel_size=2, stride=2),\n",
        "            nn.Dropout(0.4),\n",
        "\n",
        "            nn.Conv2d(128, 256, kernel_size=3, padding=1),\n",
        "            nn.ReLU(),\n",
        "            nn.BatchNorm2d(256),\n",
        "            nn.MaxPool2d(kernel_size=2, stride=2),\n",
        "            nn.Dropout(0.5)\n",
        "        )\n",
        "\n",
        "        # Bottom path\n",
        "        self.bottom_path = nn.Sequential(\n",
        "            nn.Conv2d(64, 128, kernel_size=3, padding=1),\n",
        "            nn.ReLU(),\n",
        "            nn.BatchNorm2d(128),\n",
        "            nn.MaxPool2d(kernel_size=2, stride=2),\n",
        "            nn.Dropout(0.4),\n",
        "\n",
        "            nn.Conv2d(128, 256, kernel_size=3, padding=1),\n",
        "            nn.ReLU(),\n",
        "            nn.BatchNorm2d(256),\n",
        "            nn.MaxPool2d(kernel_size=2, stride=2),\n",
        "            nn.Dropout(0.5)\n",
        "        )\n",
        "\n",
        "        # Classifier\n",
        "        self.classifier = nn.Sequential(\n",
        "            nn.Linear(8192, 1024),\n",
        "            nn.ReLU(),\n",
        "            nn.Dropout(0.6),\n",
        "            nn.Linear(1024, 512),\n",
        "            nn.ReLU(),\n",
        "            nn.Dropout(0.6),\n",
        "            nn.Linear(512, 8)\n",
        "        )\n",
        "\n",
        "    def forward(self, x):\n",
        "        x = self.initial_conv(x)\n",
        "        x_top = self.top_path(x)\n",
        "        x_bottom = self.bottom_path(x)\n",
        "        x = torch.cat((x_top, x_bottom), dim=1)\n",
        "        #print(\"Shape before flatten:\", x.shape)  # Debug print\n",
        "        x = x.view(x.size(0), -1)\n",
        "        #print(\"Shape after flatten:\", x.shape)  # Debug print\n",
        "        x = self.classifier(x)\n",
        "        return x"
      ],
      "metadata": {
        "id": "WboQtpqQJqlC"
      },
      "execution_count": 20,
      "outputs": []
    },
    {
      "cell_type": "code",
      "source": [
        "class ColorModel4(nn.Module):\n",
        "    def __init__(self):\n",
        "        super(ColorModel4, self).__init__()\n",
        "\n",
        "        self.features = nn.Sequential(\n",
        "            # Block 1\n",
        "            nn.Conv2d(3, 64, kernel_size=3, padding=1),\n",
        "            nn.ReLU(inplace=True),\n",
        "            nn.Conv2d(64, 64, kernel_size=3, padding=1),\n",
        "            nn.ReLU(inplace=True),\n",
        "            nn.MaxPool2d(kernel_size=2, stride=2),\n",
        "\n",
        "            # Block 2\n",
        "            nn.Conv2d(64, 128, kernel_size=3, padding=1),\n",
        "            nn.ReLU(inplace=True),\n",
        "            nn.Conv2d(128, 128, kernel_size=3, padding=1),\n",
        "            nn.ReLU(inplace=True),\n",
        "            nn.MaxPool2d(kernel_size=2, stride=2),\n",
        "\n",
        "            # Block 3\n",
        "            nn.Conv2d(128, 256, kernel_size=3, padding=1),\n",
        "            nn.ReLU(inplace=True),\n",
        "            nn.Conv2d(256, 256, kernel_size=3, padding=1),\n",
        "            nn.ReLU(inplace=True),\n",
        "            nn.MaxPool2d(kernel_size=2, stride=2)  # No padding here\n",
        "        )\n",
        "\n",
        "        self.classifier = nn.Sequential(\n",
        "            nn.Linear(256 * 4 * 4, 512),  # Adjusted for the flattened output of the final pooling layer\n",
        "            nn.ReLU(inplace=True),\n",
        "            nn.Dropout(),\n",
        "            nn.Linear(512, 256),\n",
        "            nn.ReLU(inplace=True),\n",
        "            nn.Dropout(),\n",
        "            nn.Linear(256, 8)  # Output layer for 8 classes\n",
        "        )\n",
        "\n",
        "    def forward(self, x):\n",
        "        x = self.features(x)\n",
        "        #print(f\"Output shape after features: {x.size()}\")  # Debug print\n",
        "        x = x.view(-1, 256 * 4 * 4)  # Flatten the output\n",
        "        #print(f\"Shape before classifier: {x.size()}\")  # Debug print\n",
        "        x = self.classifier(x)\n",
        "        #print(f\"Shape after classifier: {x.size()}\")  # Debug print\n",
        "        return x"
      ],
      "metadata": {
        "id": "jM-U4ssk2vcq"
      },
      "execution_count": 18,
      "outputs": []
    },
    {
      "cell_type": "markdown",
      "metadata": {
        "id": "QqreSDsN0eSZ"
      },
      "source": [
        "#3 - Model Profiling"
      ]
    },
    {
      "cell_type": "code",
      "source": [
        "import torch\n",
        "from torch.profiler import profile, record_function, ProfilerActivity\n",
        "\n",
        "# Define device\n",
        "device = torch.device('cuda' if torch.cuda.is_available() else 'cpu')\n",
        "\n",
        "# Load models\n",
        "model1 = ColorModel1().to(device)\n",
        "model2 = ColorModel2().to(device)\n",
        "model3 = ColorModel3().to(device)\n",
        "model4 = ColorModel4().to(device)\n",
        "\n",
        "# Load model weights\n",
        "model1.load_state_dict(torch.load(model1_weights_path))\n",
        "model2.load_state_dict(torch.load(model2_weights_path))\n",
        "model3.load_state_dict(torch.load(model3_weights_path))\n",
        "model4.load_state_dict(torch.load(model4_weights_path))\n",
        "\n",
        "# Load Models\n",
        "models = [model1, model2, model3, model4]\n",
        "\n",
        "# Function to profile a model\n",
        "def profile_model(model, data_loader, device):\n",
        "    model.eval()\n",
        "    with torch.no_grad():\n",
        "        # Grab one batch of data\n",
        "        for inputs, _ in data_loader:\n",
        "            inputs = inputs.to(device)\n",
        "            break\n",
        "\n",
        "    # Using profiler to analyze execution time and memory\n",
        "    with profile(activities=[ProfilerActivity.CPU, ProfilerActivity.CUDA],\n",
        "                 profile_memory=True,\n",
        "                 record_shapes=True) as prof:\n",
        "        with record_function(\"model_inference\"):\n",
        "            model(inputs)\n",
        "\n",
        "    print(prof.key_averages().table(sort_by=\"cuda_time_total\", row_limit=10))\n",
        "    print(prof.key_averages().table(sort_by=\"self_cuda_memory_usage\", row_limit=10))\n",
        "\n",
        "# Profile each model\n",
        "for i, model in enumerate(models, start=1):\n",
        "    print(f\"Profiling Model {i}\")\n",
        "    profile_model(model, test_data_loader, device)"
      ],
      "metadata": {
        "colab": {
          "base_uri": "https://localhost:8080/"
        },
        "id": "ZYR50knkWGN3",
        "outputId": "102828c1-db19-47a4-b2fc-45c2114f1e71"
      },
      "execution_count": 37,
      "outputs": [
        {
          "output_type": "stream",
          "name": "stdout",
          "text": [
            "Profiling Model 1\n",
            "-------------------------------------------------------  ------------  ------------  ------------  ------------  ------------  ------------  ------------  ------------  ------------  ------------  ------------  ------------  ------------  ------------  \n",
            "                                                   Name    Self CPU %      Self CPU   CPU total %     CPU total  CPU time avg     Self CUDA   Self CUDA %    CUDA total  CUDA time avg       CPU Mem  Self CPU Mem      CUDA Mem  Self CUDA Mem    # of Calls  \n",
            "-------------------------------------------------------  ------------  ------------  ------------  ------------  ------------  ------------  ------------  ------------  ------------  ------------  ------------  ------------  ------------  ------------  \n",
            "                                        model_inference         0.00%       0.000us         0.00%       0.000us       0.000us       7.074ms        87.55%       7.074ms       7.074ms           0 b           0 b           0 b           0 b             1  \n",
            "                                        model_inference        19.10%       1.760ms        99.86%       9.202ms       9.202ms       0.000us         0.00%       1.006ms       1.006ms           0 b           0 b           0 b     -83.84 Mb             1  \n",
            "                                           aten::linear         0.17%      16.000us         7.34%     676.000us     225.333us       0.000us         0.00%     494.000us     164.667us           0 b           0 b       1.00 Mb           0 b             3  \n",
            "                                            aten::addmm         5.62%     518.000us         6.77%     624.000us     208.000us     494.000us         6.11%     494.000us     164.667us           0 b           0 b       1.00 Mb       1.00 Mb             3  \n",
            "                                 ampere_sgemm_128x32_tn         0.00%       0.000us         0.00%       0.000us       0.000us     407.000us         5.04%     407.000us     407.000us           0 b           0 b           0 b           0 b             1  \n",
            "                                           aten::conv2d         1.22%     112.000us        51.90%       4.783ms     298.938us       0.000us         0.00%     389.000us      24.312us           0 b           0 b      23.98 Mb           0 b            16  \n",
            "                                      aten::convolution         2.07%     191.000us        50.69%       4.671ms     291.938us       0.000us         0.00%     389.000us      24.312us           0 b           0 b      23.98 Mb           0 b            16  \n",
            "                                     aten::_convolution         3.82%     352.000us        48.62%       4.480ms     280.000us       0.000us         0.00%     389.000us      24.312us           0 b           0 b      23.98 Mb      -5.12 Mb            16  \n",
            "                                aten::cudnn_convolution        24.73%       2.279ms        36.39%       3.353ms     209.562us     313.000us         3.87%     313.000us      19.562us           0 b           0 b      23.98 Mb      23.98 Mb            16  \n",
            "void cutlass_cudnn_infer::Kernel<cutlass_tensorop_s1...         0.00%       0.000us         0.00%       0.000us       0.000us      89.000us         1.10%      89.000us      14.833us           0 b           0 b           0 b           0 b             6  \n",
            "-------------------------------------------------------  ------------  ------------  ------------  ------------  ------------  ------------  ------------  ------------  ------------  ------------  ------------  ------------  ------------  ------------  \n",
            "Self CPU time total: 9.215ms\n",
            "Self CUDA time total: 8.080ms\n",
            "\n",
            "-------------------------------------------------------  ------------  ------------  ------------  ------------  ------------  ------------  ------------  ------------  ------------  ------------  ------------  ------------  ------------  ------------  \n",
            "                                                   Name    Self CPU %      Self CPU   CPU total %     CPU total  CPU time avg     Self CUDA   Self CUDA %    CUDA total  CUDA time avg       CPU Mem  Self CPU Mem      CUDA Mem  Self CUDA Mem    # of Calls  \n",
            "-------------------------------------------------------  ------------  ------------  ------------  ------------  ------------  ------------  ------------  ------------  ------------  ------------  ------------  ------------  ------------  ------------  \n",
            "                                        aten::clamp_min         3.01%     277.000us         4.58%     422.000us      23.444us      37.000us         0.46%      37.000us       2.056us           0 b           0 b      24.88 Mb      24.88 Mb            18  \n",
            "                                            aten::empty         2.32%     214.000us         2.32%     214.000us       6.688us       0.000us         0.00%       0.000us       0.000us           0 b           0 b      24.01 Mb      24.01 Mb            32  \n",
            "                                aten::cudnn_convolution        24.73%       2.279ms        36.39%       3.353ms     209.562us     313.000us         3.87%     313.000us      19.562us           0 b           0 b      23.98 Mb      23.98 Mb            16  \n",
            "                          aten::max_pool2d_with_indices         2.83%     261.000us         3.84%     354.000us      35.400us      46.000us         0.57%      46.000us       4.600us           0 b           0 b      13.42 Mb      13.42 Mb            10  \n",
            "                                              aten::cat         1.14%     105.000us         1.44%     133.000us      44.333us       5.000us         0.06%       5.000us       1.667us           0 b           0 b       1.66 Mb       1.66 Mb             3  \n",
            "                                            aten::addmm         5.62%     518.000us         6.77%     624.000us     208.000us     494.000us         6.11%     494.000us     164.667us           0 b           0 b       1.00 Mb       1.00 Mb             3  \n",
            "                                           aten::conv2d         1.22%     112.000us        51.90%       4.783ms     298.938us       0.000us         0.00%     389.000us      24.312us           0 b           0 b      23.98 Mb           0 b            16  \n",
            "                                      aten::convolution         2.07%     191.000us        50.69%       4.671ms     291.938us       0.000us         0.00%     389.000us      24.312us           0 b           0 b      23.98 Mb           0 b            16  \n",
            "                                        cudaEventRecord         1.10%     101.000us         1.10%     101.000us       4.591us       0.000us         0.00%       0.000us       0.000us           0 b           0 b           0 b           0 b            22  \n",
            "                                  cudaStreamIsCapturing         0.21%      19.000us         0.21%      19.000us       0.864us       0.000us         0.00%       0.000us       0.000us           0 b           0 b           0 b           0 b            22  \n",
            "-------------------------------------------------------  ------------  ------------  ------------  ------------  ------------  ------------  ------------  ------------  ------------  ------------  ------------  ------------  ------------  ------------  \n",
            "Self CPU time total: 9.215ms\n",
            "Self CUDA time total: 8.080ms\n",
            "\n",
            "Profiling Model 2\n",
            "-------------------------------------------------------  ------------  ------------  ------------  ------------  ------------  ------------  ------------  ------------  ------------  ------------  ------------  ------------  ------------  ------------  \n",
            "                                                   Name    Self CPU %      Self CPU   CPU total %     CPU total  CPU time avg     Self CUDA   Self CUDA %    CUDA total  CUDA time avg       CPU Mem  Self CPU Mem      CUDA Mem  Self CUDA Mem    # of Calls  \n",
            "-------------------------------------------------------  ------------  ------------  ------------  ------------  ------------  ------------  ------------  ------------  ------------  ------------  ------------  ------------  ------------  ------------  \n",
            "                                        model_inference         0.00%       0.000us         0.00%       0.000us       0.000us       1.162ms        89.38%       1.162ms       1.162ms           0 b           0 b           0 b           0 b             1  \n",
            "                                        model_inference        14.22%     376.000us        99.55%       2.632ms       2.632ms       0.000us         0.00%     138.000us     138.000us           0 b           0 b           0 b     -19.44 Mb             1  \n",
            "                                           aten::conv2d         0.64%      17.000us        65.24%       1.725ms     575.000us       0.000us         0.00%      73.000us      24.333us           0 b           0 b       7.00 Mb           0 b             3  \n",
            "                                      aten::convolution         1.78%      47.000us        64.60%       1.708ms     569.333us       0.000us         0.00%      73.000us      24.333us           0 b           0 b       7.00 Mb           0 b             3  \n",
            "                                     aten::_convolution         2.19%      58.000us        62.82%       1.661ms     553.667us       0.000us         0.00%      73.000us      24.333us           0 b           0 b       7.00 Mb           0 b             3  \n",
            "                                aten::cudnn_convolution        32.79%     867.000us        57.41%       1.518ms     506.000us      58.000us         4.46%      58.000us      19.333us           0 b           0 b       7.00 Mb       7.00 Mb             3  \n",
            "                                           aten::linear         0.57%      15.000us         9.83%     260.000us      86.667us       0.000us         0.00%      40.000us      13.333us           0 b           0 b      97.00 Kb           0 b             3  \n",
            "                                            aten::addmm         6.20%     164.000us         8.06%     213.000us      71.000us      40.000us         3.08%      40.000us      13.333us           0 b           0 b      97.00 Kb      97.00 Kb             3  \n",
            "                        ampere_sgemm_32x32_sliced1x4_tn         0.00%       0.000us         0.00%       0.000us       0.000us      33.000us         2.54%      33.000us      11.000us           0 b           0 b           0 b           0 b             3  \n",
            "cudnn_infer_ampere_scudnn_winograd_128x128_ldg1_ldg4...         0.00%       0.000us         0.00%       0.000us       0.000us      21.000us         1.62%      21.000us      21.000us           0 b           0 b           0 b           0 b             1  \n",
            "-------------------------------------------------------  ------------  ------------  ------------  ------------  ------------  ------------  ------------  ------------  ------------  ------------  ------------  ------------  ------------  ------------  \n",
            "Self CPU time total: 2.644ms\n",
            "Self CUDA time total: 1.300ms\n",
            "\n",
            "-------------------------------------------------------  ------------  ------------  ------------  ------------  ------------  ------------  ------------  ------------  ------------  ------------  ------------  ------------  ------------  ------------  \n",
            "                                                   Name    Self CPU %      Self CPU   CPU total %     CPU total  CPU time avg     Self CUDA   Self CUDA %    CUDA total  CUDA time avg       CPU Mem  Self CPU Mem      CUDA Mem  Self CUDA Mem    # of Calls  \n",
            "-------------------------------------------------------  ------------  ------------  ------------  ------------  ------------  ------------  ------------  ------------  ------------  ------------  ------------  ------------  ------------  ------------  \n",
            "                                        aten::clamp_min         2.91%      77.000us         4.24%     112.000us      22.400us      10.000us         0.77%      10.000us       2.000us           0 b           0 b       7.09 Mb       7.09 Mb             5  \n",
            "                                aten::cudnn_convolution        32.79%     867.000us        57.41%       1.518ms     506.000us      58.000us         4.46%      58.000us      19.333us           0 b           0 b       7.00 Mb       7.00 Mb             3  \n",
            "                          aten::max_pool2d_with_indices         2.53%      67.000us         3.40%      90.000us      30.000us      15.000us         1.15%      15.000us       5.000us           0 b           0 b       5.25 Mb       5.25 Mb             3  \n",
            "                                            aten::addmm         6.20%     164.000us         8.06%     213.000us      71.000us      40.000us         3.08%      40.000us      13.333us           0 b           0 b      97.00 Kb      97.00 Kb             3  \n",
            "                                           aten::conv2d         0.64%      17.000us        65.24%       1.725ms     575.000us       0.000us         0.00%      73.000us      24.333us           0 b           0 b       7.00 Mb           0 b             3  \n",
            "                                      aten::convolution         1.78%      47.000us        64.60%       1.708ms     569.333us       0.000us         0.00%      73.000us      24.333us           0 b           0 b       7.00 Mb           0 b             3  \n",
            "                                     aten::_convolution         2.19%      58.000us        62.82%       1.661ms     553.667us       0.000us         0.00%      73.000us      24.333us           0 b           0 b       7.00 Mb           0 b             3  \n",
            "                                        cudaEventRecord         0.49%      13.000us         0.49%      13.000us       4.333us       0.000us         0.00%       0.000us       0.000us           0 b           0 b           0 b           0 b             3  \n",
            "                                  cudaStreamIsCapturing         0.08%       2.000us         0.08%       2.000us       0.667us       0.000us         0.00%       0.000us       0.000us           0 b           0 b           0 b           0 b             3  \n",
            "                                  cudaStreamGetPriority         0.04%       1.000us         0.04%       1.000us       0.333us       0.000us         0.00%       0.000us       0.000us           0 b           0 b           0 b           0 b             3  \n",
            "-------------------------------------------------------  ------------  ------------  ------------  ------------  ------------  ------------  ------------  ------------  ------------  ------------  ------------  ------------  ------------  ------------  \n",
            "Self CPU time total: 2.644ms\n",
            "Self CUDA time total: 1.300ms\n",
            "\n",
            "Profiling Model 3\n",
            "-------------------------------------------------------  ------------  ------------  ------------  ------------  ------------  ------------  ------------  ------------  ------------  ------------  ------------  ------------  ------------  ------------  \n",
            "                                                   Name    Self CPU %      Self CPU   CPU total %     CPU total  CPU time avg     Self CUDA   Self CUDA %    CUDA total  CUDA time avg       CPU Mem  Self CPU Mem      CUDA Mem  Self CUDA Mem    # of Calls  \n",
            "-------------------------------------------------------  ------------  ------------  ------------  ------------  ------------  ------------  ------------  ------------  ------------  ------------  ------------  ------------  ------------  ------------  \n",
            "                                        model_inference         0.00%       0.000us         0.00%       0.000us       0.000us       2.479ms        80.83%       2.479ms       2.479ms           0 b           0 b           0 b           0 b             1  \n",
            "                                        model_inference        21.46%     833.000us        99.69%       3.869ms       3.869ms       0.000us         0.00%     588.000us     588.000us           0 b           0 b           0 b     -77.13 Mb             1  \n",
            "                                           aten::conv2d         0.54%      21.000us        49.11%       1.906ms     381.200us       0.000us         0.00%     273.000us      54.600us           0 b           0 b      20.00 Mb           0 b             5  \n",
            "                                      aten::convolution         1.67%      65.000us        48.57%       1.885ms     377.000us       0.000us         0.00%     273.000us      54.600us           0 b           0 b      20.00 Mb           0 b             5  \n",
            "                                     aten::_convolution         1.96%      76.000us        46.90%       1.820ms     364.000us       0.000us         0.00%     273.000us      54.600us           0 b           0 b      20.00 Mb           0 b             5  \n",
            "                                aten::cudnn_convolution        24.32%     944.000us        40.58%       1.575ms     315.000us     234.000us         7.63%     234.000us      46.800us           0 b           0 b      20.00 Mb      20.00 Mb             5  \n",
            "                                           aten::linear         0.36%      14.000us         6.16%     239.000us      79.667us       0.000us         0.00%     213.000us      71.000us           0 b           0 b     193.00 Kb           0 b             3  \n",
            "                                            aten::addmm         3.61%     140.000us         4.97%     193.000us      64.333us     213.000us         6.94%     213.000us      71.000us           0 b           0 b     193.00 Kb     193.00 Kb             3  \n",
            "                        ampere_sgemm_64x32_sliced1x4_tn         0.00%       0.000us         0.00%       0.000us       0.000us     183.000us         5.97%     183.000us     183.000us           0 b           0 b           0 b           0 b             1  \n",
            "void cutlass_cudnn_infer::Kernel<cutlass_tensorop_s1...         0.00%       0.000us         0.00%       0.000us       0.000us      79.000us         2.58%      79.000us      39.500us           0 b           0 b           0 b           0 b             2  \n",
            "-------------------------------------------------------  ------------  ------------  ------------  ------------  ------------  ------------  ------------  ------------  ------------  ------------  ------------  ------------  ------------  ------------  \n",
            "Self CPU time total: 3.881ms\n",
            "Self CUDA time total: 3.067ms\n",
            "\n",
            "-------------------------------------------------------  ------------  ------------  ------------  ------------  ------------  ------------  ------------  ------------  ------------  ------------  ------------  ------------  ------------  ------------  \n",
            "                                                   Name    Self CPU %      Self CPU   CPU total %     CPU total  CPU time avg     Self CUDA   Self CUDA %    CUDA total  CUDA time avg       CPU Mem  Self CPU Mem      CUDA Mem  Self CUDA Mem    # of Calls  \n",
            "-------------------------------------------------------  ------------  ------------  ------------  ------------  ------------  ------------  ------------  ------------  ------------  ------------  ------------  ------------  ------------  ------------  \n",
            "                                        aten::clamp_min         2.76%     107.000us         4.07%     158.000us      22.571us      24.000us         0.78%      24.000us       3.429us           0 b           0 b      20.19 Mb      20.19 Mb             7  \n",
            "                                aten::cudnn_convolution        24.32%     944.000us        40.58%       1.575ms     315.000us     234.000us         7.63%     234.000us      46.800us           0 b           0 b      20.00 Mb      20.00 Mb             5  \n",
            "                                            aten::empty         2.71%     105.000us         2.71%     105.000us       5.250us       0.000us         0.00%       0.000us       0.000us           0 b           0 b      20.00 Mb      20.00 Mb            20  \n",
            "                          aten::max_pool2d_with_indices         3.09%     120.000us         4.05%     157.000us      31.400us      39.000us         1.27%      39.000us       7.800us           0 b           0 b      15.75 Mb      15.75 Mb             5  \n",
            "                                              aten::cat         0.77%      30.000us         1.00%      39.000us      39.000us       3.000us         0.10%       3.000us       3.000us           0 b           0 b       1.00 Mb       1.00 Mb             1  \n",
            "                                            aten::addmm         3.61%     140.000us         4.97%     193.000us      64.333us     213.000us         6.94%     213.000us      71.000us           0 b           0 b     193.00 Kb     193.00 Kb             3  \n",
            "                                           aten::conv2d         0.54%      21.000us        49.11%       1.906ms     381.200us       0.000us         0.00%     273.000us      54.600us           0 b           0 b      20.00 Mb           0 b             5  \n",
            "                                      aten::convolution         1.67%      65.000us        48.57%       1.885ms     377.000us       0.000us         0.00%     273.000us      54.600us           0 b           0 b      20.00 Mb           0 b             5  \n",
            "                                     aten::_convolution         1.96%      76.000us        46.90%       1.820ms     364.000us       0.000us         0.00%     273.000us      54.600us           0 b           0 b      20.00 Mb           0 b             5  \n",
            "                                        cudaEventRecord         0.62%      24.000us         0.62%      24.000us       2.400us       0.000us         0.00%       0.000us       0.000us           0 b           0 b           0 b           0 b            10  \n",
            "-------------------------------------------------------  ------------  ------------  ------------  ------------  ------------  ------------  ------------  ------------  ------------  ------------  ------------  ------------  ------------  ------------  \n",
            "Self CPU time total: 3.881ms\n",
            "Self CUDA time total: 3.067ms\n",
            "\n",
            "Profiling Model 4\n",
            "-------------------------------------------------------  ------------  ------------  ------------  ------------  ------------  ------------  ------------  ------------  ------------  ------------  ------------  ------------  ------------  ------------  \n",
            "                                                   Name    Self CPU %      Self CPU   CPU total %     CPU total  CPU time avg     Self CUDA   Self CUDA %    CUDA total  CUDA time avg       CPU Mem  Self CPU Mem      CUDA Mem  Self CUDA Mem    # of Calls  \n",
            "-------------------------------------------------------  ------------  ------------  ------------  ------------  ------------  ------------  ------------  ------------  ------------  ------------  ------------  ------------  ------------  ------------  \n",
            "                                        model_inference         0.00%       0.000us         0.00%       0.000us       0.000us       1.920ms        76.34%       1.920ms       1.920ms           0 b           0 b           0 b           0 b             1  \n",
            "                                        model_inference        16.29%     561.000us        99.62%       3.431ms       3.431ms       0.000us         0.00%     595.000us     595.000us           0 b           0 b           0 b     -39.34 Mb             1  \n",
            "                                           aten::conv2d         0.78%      27.000us        63.39%       2.183ms     363.833us       0.000us         0.00%     474.000us      79.000us           0 b           0 b      28.00 Mb           0 b             6  \n",
            "                                      aten::convolution         2.56%      88.000us        62.60%       2.156ms     359.333us       0.000us         0.00%     474.000us      79.000us           0 b           0 b      28.00 Mb           0 b             6  \n",
            "                                     aten::_convolution         2.87%      99.000us        60.05%       2.068ms     344.667us       0.000us         0.00%     474.000us      79.000us           0 b           0 b      28.00 Mb           0 b             6  \n",
            "                                aten::cudnn_convolution        30.63%       1.055ms        52.18%       1.797ms     299.500us     426.000us        16.94%     426.000us      71.000us           0 b           0 b      28.00 Mb      28.00 Mb             6  \n",
            "cudnn_infer_ampere_scudnn_winograd_128x128_ldg1_ldg4...         0.00%       0.000us         0.00%       0.000us       0.000us     114.000us         4.53%     114.000us     114.000us           0 b           0 b           0 b           0 b             1  \n",
            "void cutlass_cudnn_infer::Kernel<cutlass_tensorop_s1...         0.00%       0.000us         0.00%       0.000us       0.000us     110.000us         4.37%     110.000us      55.000us           0 b           0 b           0 b           0 b             2  \n",
            "sm86_xmma_fprop_implicit_gemm_tf32f32_tf32f32_f32_nh...         0.00%       0.000us         0.00%       0.000us       0.000us      80.000us         3.18%      80.000us      80.000us           0 b           0 b           0 b           0 b             1  \n",
            "                                           aten::linear         0.46%      16.000us         7.64%     263.000us      87.667us       0.000us         0.00%      63.000us      21.000us           0 b           0 b      97.00 Kb           0 b             3  \n",
            "-------------------------------------------------------  ------------  ------------  ------------  ------------  ------------  ------------  ------------  ------------  ------------  ------------  ------------  ------------  ------------  ------------  \n",
            "Self CPU time total: 3.444ms\n",
            "Self CUDA time total: 2.515ms\n",
            "\n",
            "-------------------------------------------------------  ------------  ------------  ------------  ------------  ------------  ------------  ------------  ------------  ------------  ------------  ------------  ------------  ------------  ------------  \n",
            "                                                   Name    Self CPU %      Self CPU   CPU total %     CPU total  CPU time avg     Self CUDA   Self CUDA %    CUDA total  CUDA time avg       CPU Mem  Self CPU Mem      CUDA Mem  Self CUDA Mem    # of Calls  \n",
            "-------------------------------------------------------  ------------  ------------  ------------  ------------  ------------  ------------  ------------  ------------  ------------  ------------  ------------  ------------  ------------  ------------  \n",
            "                                aten::cudnn_convolution        30.63%       1.055ms        52.18%       1.797ms     299.500us     426.000us        16.94%     426.000us      71.000us           0 b           0 b      28.00 Mb      28.00 Mb             6  \n",
            "                          aten::max_pool2d_with_indices         2.29%      79.000us         2.96%     102.000us      34.000us      28.000us         1.11%      28.000us       9.333us           0 b           0 b      11.25 Mb      11.25 Mb             3  \n",
            "                                            aten::addmm         4.70%     162.000us         6.18%     213.000us      71.000us      63.000us         2.50%      63.000us      21.000us           0 b           0 b      97.00 Kb      97.00 Kb             3  \n",
            "                                           aten::conv2d         0.78%      27.000us        63.39%       2.183ms     363.833us       0.000us         0.00%     474.000us      79.000us           0 b           0 b      28.00 Mb           0 b             6  \n",
            "                                      aten::convolution         2.56%      88.000us        62.60%       2.156ms     359.333us       0.000us         0.00%     474.000us      79.000us           0 b           0 b      28.00 Mb           0 b             6  \n",
            "                                     aten::_convolution         2.87%      99.000us        60.05%       2.068ms     344.667us       0.000us         0.00%     474.000us      79.000us           0 b           0 b      28.00 Mb           0 b             6  \n",
            "                                        cudaEventRecord         0.64%      22.000us         0.64%      22.000us       3.667us       0.000us         0.00%       0.000us       0.000us           0 b           0 b           0 b           0 b             6  \n",
            "                                  cudaStreamIsCapturing         0.09%       3.000us         0.09%       3.000us       0.500us       0.000us         0.00%       0.000us       0.000us           0 b           0 b           0 b           0 b             6  \n",
            "                                  cudaStreamGetPriority         0.03%       1.000us         0.03%       1.000us       0.167us       0.000us         0.00%       0.000us       0.000us           0 b           0 b           0 b           0 b             6  \n",
            "                       cudaDeviceGetStreamPriorityRange         0.03%       1.000us         0.03%       1.000us       0.167us       0.000us         0.00%       0.000us       0.000us           0 b           0 b           0 b           0 b             6  \n",
            "-------------------------------------------------------  ------------  ------------  ------------  ------------  ------------  ------------  ------------  ------------  ------------  ------------  ------------  ------------  ------------  ------------  \n",
            "Self CPU time total: 3.444ms\n",
            "Self CUDA time total: 2.515ms\n",
            "\n"
          ]
        }
      ]
    },
    {
      "cell_type": "markdown",
      "metadata": {
        "id": "3QxP3Dvjn-fv"
      },
      "source": [
        "# 4 - Model Inferencer"
      ]
    },
    {
      "cell_type": "code",
      "source": [
        "# Instantiate the model\n",
        "model = ColorModel3()\n",
        "\n",
        "# Load the weights\n",
        "model_weights_path = model3_weights_path\n",
        "\n",
        "# Load the model weights\n",
        "model.load_state_dict(torch.load(model_weights_path))\n",
        "\n",
        "# Set the model to evaluation mode\n",
        "model.eval()\n",
        "\n",
        "# Check device and send model to device if using CUDA\n",
        "device = torch.device(\"cuda\" if torch.cuda.is_available() else \"cpu\")\n",
        "model.to(device)\n",
        "\n",
        "print(\"Model loaded and set to evaluation mode.\")"
      ],
      "metadata": {
        "colab": {
          "base_uri": "https://localhost:8080/"
        },
        "id": "rVb23NigNc3V",
        "outputId": "187075f6-6b46-4a81-e4a8-a014cb55a78d"
      },
      "execution_count": 34,
      "outputs": [
        {
          "output_type": "stream",
          "name": "stdout",
          "text": [
            "Model loaded and set to evaluation mode.\n"
          ]
        }
      ]
    },
    {
      "cell_type": "code",
      "source": [
        "# Set the device to use\n",
        "device = torch.device(\"cuda\" if torch.cuda.is_available() else \"cpu\")\n",
        "\n",
        "# Load a random image and label from the test dataset using the ColorDataset_RGB\n",
        "random_index = random.randint(0, len(test_dataset_rgb) - 1)\n",
        "image_normalized, label = test_dataset_rgb[random_index]\n",
        "\n",
        "# Prepare the image for inference\n",
        "image_tensor = image_normalized.unsqueeze(0).to(device)  # Add batch dimension and send to device\n",
        "\n",
        "# Run the model to get the output logits\n",
        "with torch.no_grad():\n",
        "    output = model(image_tensor)\n",
        "    probabilities = torch.nn.functional.softmax(output, dim=1)\n",
        "    top3_prob, top3_labels = torch.topk(probabilities, 3)\n",
        "\n",
        "# Convert probabilities and labels to CPU for displaying\n",
        "top3_prob = top3_prob.cpu().numpy().flatten()\n",
        "top3_labels = top3_labels.cpu().numpy().flatten()\n",
        "\n",
        "# Visualize the results\n",
        "fig, axs = plt.subplots(1, 2, figsize=(10, 4))\n",
        "\n",
        "# Original image (pre normalization)\n",
        "# Load the image from the file path for visualization\n",
        "image_path = x_test[random_index]\n",
        "original_img = np.array(Image.open(image_path).convert('RGB'))\n",
        "axs[0].imshow(original_img)\n",
        "axs[0].set_title(f'Original Image - True Label: {labels[label]}')\n",
        "axs[0].axis('off')\n",
        "\n",
        "# Normalized image (post normalization)\n",
        "# Rescale the normalized image for visualization\n",
        "normalized_img = (original_img - mean_rgb / std_dev_rgb) * 255\n",
        "normalized_img = normalized_img.astype(np.uint8)\n",
        "axs[1].imshow(normalized_img)\n",
        "axs[1].set_title('Normalized Image')\n",
        "axs[1].axis('off')\n",
        "\n",
        "plt.show()\n",
        "\n",
        "# Print the predicted labels with confidence percentages\n",
        "print(\"Top 3 Predicted Labels with Confidence Percentages:\")\n",
        "for i, idx in enumerate(top3_labels):\n",
        "    print(f\"{i+1}: Label = {labels[idx]}, Confidence = {top3_prob[i]*100:.2f}%\")"
      ],
      "metadata": {
        "colab": {
          "base_uri": "https://localhost:8080/",
          "height": 436
        },
        "id": "R9vsaaD5VGYX",
        "outputId": "b9d1790e-6a10-47e8-a587-8defd9d53584"
      },
      "execution_count": 32,
      "outputs": [
        {
          "output_type": "display_data",
          "data": {
            "text/plain": [
              "<Figure size 1000x400 with 2 Axes>"
            ],
            "image/png": "[encoded data removed]"
          },
          "metadata": {}
        },
        {
          "output_type": "stream",
          "name": "stdout",
          "text": [
            "Top 3 Predicted Labels with Confidence Percentages:\n",
            "1: Label = Red, Confidence = 99.31%\n",
            "2: Label = Brown, Confidence = 0.47%\n",
            "3: Label = Orange, Confidence = 0.10%\n"
          ]
        }
      ]
    }
  ],
  "metadata": {
    "accelerator": "GPU",
    "colab": {
      "gpuType": "L4",
      "machine_shape": "hm",
      "provenance": [],
      "authorship_tag": "ABX9TyMB3CBoAhAfak8i0tLlvShi",
      "include_colab_link": true
    },
    "kernelspec": {
      "display_name": "Python 3",
      "name": "python3"
    },
    "language_info": {
      "name": "python"
    }
  },
  "nbformat": 4,
  "nbformat_minor": 0
}